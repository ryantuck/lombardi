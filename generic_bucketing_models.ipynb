{
 "cells": [
  {
   "cell_type": "markdown",
   "metadata": {},
   "source": [
    "# generic bucketing framework\n",
    "\n",
    "Framework for bucketing season-level performance and game-level performance into an arbitrary amount of buckets. The idea is to use this to feel out whether some sort of generic bucketing scheme is appropriate to use as a first pass at a predictive model for player performance, and if so, which bucket distribution is most appropriate?"
   ]
  },
  {
   "cell_type": "code",
   "execution_count": 1,
   "metadata": {
    "collapsed": true
   },
   "outputs": [],
   "source": [
    "# stuff we need\n",
    "import math\n",
    "import matplotlib.pyplot as plt\n",
    "import petl\n",
    "import psycopg2\n",
    "\n",
    "from lombardi import bayes\n",
    "\n",
    "\n",
    "# big inline graphs by default\n",
    "%matplotlib inline\n",
    "plt.rcParams['figure.figsize'] = (20.0, 10.0)\n",
    "\n",
    "# suppress bullshit scipy warnings\n",
    "import warnings\n",
    "warnings.filterwarnings(action=\"ignore\", module=\"scipy\", message=\"^internal gelsd\")\n",
    "\n",
    "# global connection for db\n",
    "conn = psycopg2.connect('dbname=nfldb')"
   ]
  },
  {
   "cell_type": "markdown",
   "metadata": {},
   "source": [
    "## define functions for bucketing season/game performance"
   ]
  },
  {
   "cell_type": "code",
   "execution_count": 3,
   "metadata": {
    "collapsed": true
   },
   "outputs": [],
   "source": [
    "def season_buckets(season_param, season_bins):\n",
    "    \n",
    "    # extract data\n",
    "    full_seasons = petl.fromdb(conn, 'select * from lombardi.qb_aggs').selecteq('num_games', 16)\n",
    "    \n",
    "    vals = [float(y) for y in full_seasons[season_param]]\n",
    "\n",
    "    # calculate params for our model\n",
    "    min_v = min(vals)\n",
    "    max_v = max(vals)\n",
    "    bin_size = (max_v-min_v)/season_bins\n",
    "    \n",
    "    def rebucket(v):\n",
    "        if v == season_bins:\n",
    "            return v-1\n",
    "        return v\n",
    "    \n",
    "    # bucket vals\n",
    "    seasons = (\n",
    "        full_seasons\n",
    "        .addfield('normed_v', lambda r: float(r[season_param]) - min_v)\n",
    "        .addfield('bucket', lambda r: int(r['normed_v'] // bin_size))\n",
    "        .convert(season_param, float)\n",
    "        # gnarly hack to account for bin logic weirdness on last value\n",
    "        .convert('bucket', rebucket)\n",
    "        .cut(('year', 'name', season_param, 'bucket'))\n",
    "    )\n",
    "    \n",
    "    return seasons"
   ]
  },
  {
   "cell_type": "code",
   "execution_count": 4,
   "metadata": {
    "collapsed": true
   },
   "outputs": [],
   "source": [
    "def game_buckets(game_param, game_bins):\n",
    "    \n",
    "    # extract data\n",
    "    qb_games = petl.fromdb(conn, 'select * from lombardi.qb_stats')\n",
    "    \n",
    "    vals = [float(y) for y in qb_games[game_param]]\n",
    "    \n",
    "    # calculate params for our model\n",
    "    min_v = min(vals)\n",
    "    max_v = max(vals)\n",
    "    bin_size = (max_v-min_v)/game_bins\n",
    "    \n",
    "    def rebucket(v):\n",
    "        if v == game_bins:\n",
    "            return v-1\n",
    "        return v\n",
    "    \n",
    "    # bucket vals\n",
    "    games = (\n",
    "        qb_games\n",
    "        .addfield('normed_v', lambda r: float(r[game_param]) - min_v)\n",
    "        .addfield('bucket', lambda r: int(r['normed_v'] // bin_size))\n",
    "        .convert(game_param, float)\n",
    "        # gnarly hack to account for bin logic weirdness on last value\n",
    "        .convert('bucket', rebucket)\n",
    "        .cut(('year', 'name', 'week', game_param, 'bucket'))\n",
    "    )\n",
    "    \n",
    "    return games"
   ]
  },
  {
   "cell_type": "code",
   "execution_count": 12,
   "metadata": {
    "collapsed": true
   },
   "outputs": [],
   "source": [
    "# get explicit probability distributions\n",
    "def bucket_dist(table):\n",
    "    agg = table.aggregate('bucket', len)\n",
    "    tot = sum(agg['value'])\n",
    "    probs = agg.addfield('prob', lambda r: r['value'] / tot)\n",
    "    return probs"
   ]
  },
  {
   "cell_type": "markdown",
   "metadata": {},
   "source": [
    "# set parameters for bucket logic\n",
    "\n",
    "For now, split season performance (aka QB quality) into three buckets (bad, okay, elite) and game performance into five buckets."
   ]
  },
  {
   "cell_type": "code",
   "execution_count": 14,
   "metadata": {
    "collapsed": true
   },
   "outputs": [],
   "source": [
    "season_bins = 3\n",
    "game_bins = 5\n",
    "\n",
    "season_param = 'avg_yds'\n",
    "game_param = 'yards'"
   ]
  },
  {
   "cell_type": "markdown",
   "metadata": {},
   "source": [
    "## bucket season/game performance"
   ]
  },
  {
   "cell_type": "code",
   "execution_count": 15,
   "metadata": {},
   "outputs": [
    {
     "data": {
      "text/plain": [
       "+------+----------------------+------+-------+--------+\n",
       "| year | name                 | week | yards | bucket |\n",
       "+======+======================+======+=======+========+\n",
       "| 2009 | 'Aaron Rodgers'      |    1 | 184.0 |      1 |\n",
       "+------+----------------------+------+-------+--------+\n",
       "| 2009 | 'Ben Roethlisberger' |    1 | 363.0 |      3 |\n",
       "+------+----------------------+------+-------+--------+\n",
       "| 2009 | 'Carson Palmer'      |    1 | 247.0 |      2 |\n",
       "+------+----------------------+------+-------+--------+\n",
       "| 2009 | 'Drew Brees'         |    1 | 358.0 |      3 |\n",
       "+------+----------------------+------+-------+--------+\n",
       "| 2009 | 'Eli Manning'        |    1 | 256.0 |      2 |\n",
       "+------+----------------------+------+-------+--------+\n",
       "..."
      ]
     },
     "execution_count": 15,
     "metadata": {},
     "output_type": "execute_result"
    }
   ],
   "source": [
    "gbs = game_buckets('yards', 5)\n",
    "gbs.look()"
   ]
  },
  {
   "cell_type": "code",
   "execution_count": 16,
   "metadata": {},
   "outputs": [
    {
     "data": {
      "text/plain": [
       "(array([  224.,   771.,  1152.,   423.,    38.]),\n",
       " array([ 0. ,  0.8,  1.6,  2.4,  3.2,  4. ]),\n",
       " <a list of 5 Patch objects>)"
      ]
     },
     "execution_count": 16,
     "metadata": {},
     "output_type": "execute_result"
    },
    {
     "data": {
      "image/png": "[encoded data removed]",
      "text/plain": [
       "<matplotlib.figure.Figure at 0x10d73ebe0>"
      ]
     },
     "metadata": {},
     "output_type": "display_data"
    }
   ],
   "source": [
    "plt.hist(gbs['bucket'], bins=5)"
   ]
  },
  {
   "cell_type": "code",
   "execution_count": 17,
   "metadata": {},
   "outputs": [
    {
     "data": {
      "text/plain": [
       "+------+-----------------+---------+--------+\n",
       "| year | name            | avg_yds | bucket |\n",
       "+======+=================+=========+========+\n",
       "| 2009 | 'Aaron Rodgers' |  277.13 |      1 |\n",
       "+------+-----------------+---------+--------+\n",
       "| 2009 | 'Carson Palmer' |  193.38 |      0 |\n",
       "+------+-----------------+---------+--------+\n",
       "| 2009 | 'Eli Manning'   |  251.31 |      1 |\n",
       "+------+-----------------+---------+--------+\n",
       "| 2009 | 'Joe Flacco'    |  225.81 |      0 |\n",
       "+------+-----------------+---------+--------+\n",
       "| 2009 | 'Matt Schaub'   |  298.13 |      2 |\n",
       "+------+-----------------+---------+--------+\n",
       "..."
      ]
     },
     "execution_count": 17,
     "metadata": {},
     "output_type": "execute_result"
    }
   ],
   "source": [
    "sbs = season_buckets('avg_yds', 3)\n",
    "sbs.look()"
   ]
  },
  {
   "cell_type": "code",
   "execution_count": 18,
   "metadata": {},
   "outputs": [
    {
     "data": {
      "text/plain": [
       "(array([ 31.,  44.,  15.]),\n",
       " array([ 0.        ,  0.66666667,  1.33333333,  2.        ]),\n",
       " <a list of 3 Patch objects>)"
      ]
     },
     "execution_count": 18,
     "metadata": {},
     "output_type": "execute_result"
    },
    {
     "data": {
      "image/png": "[encoded data removed]",
      "text/plain": [
       "<matplotlib.figure.Figure at 0x10cf6bf28>"
      ]
     },
     "metadata": {},
     "output_type": "display_data"
    }
   ],
   "source": [
    "plt.hist(sbs['bucket'], bins=3)"
   ]
  },
  {
   "cell_type": "markdown",
   "metadata": {},
   "source": [
    "## convert actual performance into bucketed performance\n",
    "\n",
    "We abstract away QB names and actual average yards / yards per game into just a series of buckets.\n",
    "\n",
    "Ultimately, we want to end up with probability distributions for each QB type (season buckets) defining how often they will have bad, okay, good etc games (game buckets)."
   ]
  },
  {
   "cell_type": "code",
   "execution_count": 24,
   "metadata": {},
   "outputs": [
    {
     "data": {
      "text/plain": [
       "+----------+----------+---------+---------+----------------------+\n",
       "| s_bucket | g_bucket | g_count | s_count | prob                 |\n",
       "+==========+==========+=========+=========+======================+\n",
       "|        0 |        0 |      15 |     496 |  0.03024193548387097 |\n",
       "+----------+----------+---------+---------+----------------------+\n",
       "|        0 |        1 |     218 |     496 |  0.43951612903225806 |\n",
       "+----------+----------+---------+---------+----------------------+\n",
       "|        0 |        2 |     218 |     496 |  0.43951612903225806 |\n",
       "+----------+----------+---------+---------+----------------------+\n",
       "|        0 |        3 |      43 |     496 |  0.08669354838709678 |\n",
       "+----------+----------+---------+---------+----------------------+\n",
       "|        0 |        4 |       2 |     496 | 0.004032258064516129 |\n",
       "+----------+----------+---------+---------+----------------------+\n",
       "|        1 |        0 |       8 |     704 | 0.011363636363636364 |\n",
       "+----------+----------+---------+---------+----------------------+\n",
       "|        1 |        1 |     153 |     704 |  0.21732954545454544 |\n",
       "+----------+----------+---------+---------+----------------------+\n",
       "|        1 |        2 |     375 |     704 |   0.5326704545454546 |\n",
       "+----------+----------+---------+---------+----------------------+\n",
       "|        1 |        3 |     154 |     704 |              0.21875 |\n",
       "+----------+----------+---------+---------+----------------------+\n",
       "|        1 |        4 |      14 |     704 | 0.019886363636363636 |\n",
       "+----------+----------+---------+---------+----------------------+\n",
       "|        2 |        0 |       0 |     240 |                  0.0 |\n",
       "+----------+----------+---------+---------+----------------------+\n",
       "|        2 |        1 |      15 |     240 |               0.0625 |\n",
       "+----------+----------+---------+---------+----------------------+\n",
       "|        2 |        2 |     120 |     240 |                  0.5 |\n",
       "+----------+----------+---------+---------+----------------------+\n",
       "|        2 |        3 |      93 |     240 |               0.3875 |\n",
       "+----------+----------+---------+---------+----------------------+\n",
       "|        2 |        4 |      12 |     240 |                 0.05 |\n",
       "+----------+----------+---------+---------+----------------------+"
      ]
     },
     "execution_count": 24,
     "metadata": {},
     "output_type": "execute_result"
    }
   ],
   "source": [
    "# join bucketed season performance to bucketed game performance\n",
    "sg = sbs.join(gbs, key=('year', 'name'), lprefix='s_', rprefix='g_')\n",
    "\n",
    "# get all possible season/game bucket combos as our master list\n",
    "all_bucket_combos = petl.fromdicts([\n",
    "    {'s_bucket': s, 'g_bucket': g}\n",
    "    for s in set(sg['s_bucket'])\n",
    "    for g in set(sg['g_bucket'])\n",
    "])\n",
    "\n",
    "# get counts of all existing season/game bucket combos\n",
    "game_bucket_counts = sg.aggregate(('s_bucket', 'g_bucket'), len)\n",
    "\n",
    "# generate counts for all season/game bucket combos and fill in\n",
    "# any missing values with 0\n",
    "all_game_bucket_counts = (\n",
    "    all_bucket_combos\n",
    "    .leftjoin(\n",
    "        game_bucket_counts, \n",
    "        key=('s_bucket', 'g_bucket'), \n",
    "        missing=0,\n",
    "    )\n",
    "    .rename({'value': 'g_count'})\n",
    ")\n",
    "\n",
    "# calculate season bucket counts\n",
    "s_bucket_game_counts = (\n",
    "    all_game_bucket_counts\n",
    "    .aggregate('s_bucket', sum, 'g_count')\n",
    "    .rename({'value': 's_count'})\n",
    ")\n",
    "\n",
    "# get probs for each season-game turnout\n",
    "g_bucket_probs = (\n",
    "    all_game_bucket_counts\n",
    "    .join(s_bucket_game_counts, key=('s_bucket'))\n",
    "    .addfield('prob', lambda r: r['g_count'] / r['s_count'])\n",
    "    .cut(('s_bucket', 'g_bucket', 'g_count', 's_count', 'prob'))\n",
    ")\n",
    "    \n",
    "\n",
    "# peep it\n",
    "g_bucket_probs.lookall()"
   ]
  },
  {
   "cell_type": "markdown",
   "metadata": {},
   "source": [
    "## generate list of dictionaries of raw bucketed data\n",
    "\n",
    "We'll use this to pass into our model."
   ]
  },
  {
   "cell_type": "code",
   "execution_count": 25,
   "metadata": {
    "collapsed": true
   },
   "outputs": [],
   "source": [
    "# generate well-formed season-game raw data\n",
    "\n",
    "season_dicts = petl.dicts(sbs)\n",
    "game_dicts = petl.dicts(gbs)\n",
    "\n",
    "data = []\n",
    "\n",
    "for s in season_dicts:\n",
    "    gd = [\n",
    "        {\n",
    "            k:v for k,v in x.items()\n",
    "            if k in ['yards', 'week', 'bucket']\n",
    "        }\n",
    "        for x in game_dicts \n",
    "        if x['year'] == s['year']\n",
    "        and x['name'] == s['name']\n",
    "    ]\n",
    "    \n",
    "    data.append(dict(\n",
    "        season=s,\n",
    "        games=sorted(gd, key=lambda r: r['week']),\n",
    "    ))\n",
    "    \n",
    "data[0]"
   ]
  },
  {
   "cell_type": "markdown",
   "metadata": {},
   "source": [
    "## generate likelihood and prior\n",
    "\n",
    "The likelihood is the distribution of game performance for each QB type.\n",
    "\n",
    "The prior is the initial guess at what type of QB the given player is that we'll analyze."
   ]
  },
  {
   "cell_type": "code",
   "execution_count": 27,
   "metadata": {
    "collapsed": true
   },
   "outputs": [],
   "source": [
    "# generate likelihood and prior\n",
    "\n",
    "s_bucket_dicts = list(petl.dicts(s_bucket_probs))\n",
    "g_bucket_dicts = list(petl.dicts(g_bucket_probs))\n",
    "\n",
    "season_buckets = sorted(set(s['s_bucket'] for s in s_bucket_dicts))\n",
    "\n",
    "likelihoods = {\n",
    "    sb: bayes.Pdf({\n",
    "        gb['g_bucket']: gb['prob']\n",
    "        for gb in g_bucket_dicts\n",
    "        if gb['s_bucket'] == sb\n",
    "    })\n",
    "    for sb in season_buckets\n",
    "}\n",
    "\n",
    "prior = {s['s_bucket']: s['s_prob'] for s in s_bucket_dicts}"
   ]
  },
  {
   "cell_type": "markdown",
   "metadata": {},
   "source": [
    "## run analysis on all players\n",
    "\n",
    "For each player-season, run their performance through our model and log how the prior is updated (and consequently, how the posterior predictive is updated)."
   ]
  },
  {
   "cell_type": "code",
   "execution_count": 29,
   "metadata": {},
   "outputs": [
    {
     "name": "stdout",
     "output_type": "stream",
     "text": [
      "2009 Aaron Rodgers\n",
      "2009 Carson Palmer\n",
      "2009 Eli Manning\n",
      "2009 Joe Flacco\n",
      "2009 Matt Schaub\n",
      "2009 Philip Rivers\n",
      "2009 Tom Brady\n",
      "2010 Carson Palmer\n",
      "2010 Drew Brees\n",
      "2010 Eli Manning\n",
      "2010 Joe Flacco\n",
      "2010 Matt Ryan\n",
      "2010 Matt Schaub\n",
      "2010 Philip Rivers\n",
      "2010 Sam Bradford\n",
      "2010 Tom Brady\n",
      "2011 Alex Smith\n",
      "2011 Andy Dalton\n",
      "2011 Cam Newton\n",
      "2011 Drew Brees\n",
      "2011 Eli Manning\n",
      "2011 Joe Flacco\n",
      "2011 Mark Sanchez\n",
      "2011 Matt Ryan\n",
      "2011 Matthew Stafford\n",
      "2011 Philip Rivers\n",
      "2011 Ryan Fitzpatrick\n",
      "2011 Tom Brady\n",
      "2012 Aaron Rodgers\n",
      "2012 Andrew Luck\n",
      "2012 Andy Dalton\n",
      "2012 Cam Newton\n",
      "2012 Drew Brees\n",
      "2012 Eli Manning\n",
      "2012 Joe Flacco\n",
      "2012 Matt Ryan\n",
      "2012 Matt Schaub\n",
      "2012 Matthew Stafford\n",
      "2012 Philip Rivers\n",
      "2012 Russell Wilson\n",
      "2012 Ryan Fitzpatrick\n",
      "2012 Ryan Tannehill\n",
      "2012 Sam Bradford\n",
      "2012 Tom Brady\n",
      "2013 Andrew Luck\n",
      "2013 Andy Dalton\n",
      "2013 Ben Roethlisberger\n",
      "2013 Cam Newton\n",
      "2013 Carson Palmer\n",
      "2013 Drew Brees\n",
      "2013 Eli Manning\n",
      "2013 Geno Smith\n",
      "2013 Joe Flacco\n",
      "2013 Matt Ryan\n",
      "2013 Matthew Stafford\n",
      "2013 Philip Rivers\n",
      "2013 Russell Wilson\n",
      "2013 Ryan Tannehill\n",
      "2013 Tom Brady\n",
      "2014 Aaron Rodgers\n",
      "2014 Andrew Luck\n",
      "2014 Andy Dalton\n",
      "2014 Ben Roethlisberger\n",
      "2014 Derek Carr\n",
      "2014 Drew Brees\n",
      "2014 Eli Manning\n",
      "2014 Joe Flacco\n",
      "2014 Matt Ryan\n",
      "2014 Matthew Stafford\n",
      "2014 Philip Rivers\n",
      "2014 Russell Wilson\n",
      "2014 Ryan Tannehill\n",
      "2014 Tom Brady\n",
      "2015 Aaron Rodgers\n",
      "2015 Alex Smith\n",
      "2015 Blake Bortles\n",
      "2015 Cam Newton\n",
      "2015 Carson Palmer\n",
      "2015 Derek Carr\n",
      "2015 Eli Manning\n",
      "2015 Jameis Winston\n",
      "2015 Kirk Cousins\n",
      "2015 Matt Ryan\n",
      "2015 Matthew Stafford\n",
      "2015 Philip Rivers\n",
      "2015 Russell Wilson\n",
      "2015 Ryan Fitzpatrick\n",
      "2015 Ryan Tannehill\n",
      "2015 Teddy Bridgewater\n",
      "2015 Tom Brady\n"
     ]
    }
   ],
   "source": [
    "runs = []\n",
    "\n",
    "for d in data:\n",
    "    \n",
    "    print(d['season']['year'], d['season']['name'])\n",
    "    \n",
    "    # list of actual values\n",
    "    vals = [g['bucket'] for g in d['games']]\n",
    "    \n",
    "    dist = bayes.DiscreteBayes(\n",
    "        prior=bayes.Pdf(dict(prior)),\n",
    "        likelihoods=dict(likelihoods),\n",
    "    )\n",
    "    \n",
    "    results = []\n",
    "\n",
    "    # pre-season\n",
    "    results.append({\n",
    "        'prior': dict(dist.prior.probs),\n",
    "        'posterior_predictive': list(dist.posterior_predictive().probs.values()),\n",
    "    })\n",
    "\n",
    "    # track bayesian results week by week\n",
    "    for val in vals:\n",
    "        # given number of tds this week, update our prior\n",
    "        dist.update_prior(val)\n",
    "        # store results\n",
    "        results.append({\n",
    "            'prior': dict(dist.prior.probs),\n",
    "            'posterior_predictive': list(dist.posterior_predictive().probs.values()),\n",
    "        })\n",
    "        \n",
    "    runs.append({\n",
    "        'data': d,\n",
    "        'vals': vals,\n",
    "        'results': results,\n",
    "    })"
   ]
  },
  {
   "cell_type": "code",
   "execution_count": null,
   "metadata": {
    "collapsed": true
   },
   "outputs": [],
   "source": []
  }
 ],
 "metadata": {
  "kernelspec": {
   "display_name": "Python 3",
   "language": "python",
   "name": "python3"
  },
  "language_info": {
   "codemirror_mode": {
    "name": "ipython",
    "version": 3
   },
   "file_extension": ".py",
   "mimetype": "text/x-python",
   "name": "python",
   "nbconvert_exporter": "python",
   "pygments_lexer": "ipython3",
   "version": "3.6.1"
  }
 },
 "nbformat": 4,
 "nbformat_minor": 2
}
